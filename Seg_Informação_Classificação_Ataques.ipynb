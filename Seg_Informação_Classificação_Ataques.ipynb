{
 "cells": [
  {
   "cell_type": "markdown",
   "metadata": {},
   "source": [
    "## Classificação_Detecção_Intrusão"
   ]
  },
  {
   "cell_type": "code",
   "execution_count": 2,
   "metadata": {},
   "outputs": [],
   "source": [
    "# Ref = https://github.com/hritik7080/Network-Intrusion-Detection/blob/master/Network%20Intrusion%20Detection/kdd4.py"
   ]
  },
  {
   "cell_type": "code",
   "execution_count": 3,
   "metadata": {},
   "outputs": [],
   "source": [
    "# Ref = https://github.com/TalibKhweled/Network_Intrusion_Detection/blob/main/Network_Intrusion_Detection.ipynb"
   ]
  },
  {
   "cell_type": "code",
   "execution_count": 4,
   "metadata": {},
   "outputs": [],
   "source": [
    "# Importar Bibliotecas\n",
    "import pandas as pd\n",
    "import matplotlib.pyplot as plt\n",
    "import numpy as np\n",
    "from sklearn.model_selection import cross_val_score\n",
    "from sklearn.preprocessing import LabelEncoder\n",
    "from sklearn.preprocessing import Normalizer\n",
    "from sklearn.metrics import accuracy_score\n",
    "from sklearn.model_selection import train_test_split\n",
    "from sklearn.svm import LinearSVC\n",
    "from sklearn.linear_model import Perceptron\n",
    "from sklearn.neighbors import KNeighborsClassifier\n",
    "from sklearn.linear_model import SGDClassifier\n",
    "from xgboost import XGBClassifier\n",
    "from sklearn.feature_selection import SelectKBest\n",
    "from sklearn.feature_selection import chi2\n",
    "from sklearn.linear_model import LogisticRegression\n",
    "from sklearn.feature_selection import RFE\n",
    "from sklearn.discriminant_analysis import LinearDiscriminantAnalysis as LDA\n",
    "from sklearn.decomposition import PCA\n",
    "from sklearn.discriminant_analysis import LinearDiscriminantAnalysis as LDA\n",
    "import warnings"
   ]
  },
  {
   "cell_type": "code",
   "execution_count": 5,
   "metadata": {},
   "outputs": [],
   "source": [
    "# Gerenciamento de alarmes\n",
    "warnings.filterwarnings(\"ignore\")"
   ]
  },
  {
   "cell_type": "code",
   "execution_count": 6,
   "metadata": {},
   "outputs": [],
   "source": [
    "plt.rcParams.update({'figure.figsize': (12.0, 8.0)})\n",
    "plt.rcParams.update({'font.size': 14})"
   ]
  },
  {
   "cell_type": "code",
   "execution_count": 7,
   "metadata": {},
   "outputs": [],
   "source": [
    "# Criação de nomes - array - para designar as colunas -- arquivo original possui\n",
    "colunas = [\"duration\", \"protocol_type\", \"service\", \"flag\", \"src_bytes\",\n",
    "         \"dst_bytes\", \"land\", \"wrong_fragment\", \"urgent\", \"hot\", \"num_failed_logins\",\n",
    "         \"logged_in\", \"num_compromised\", \"root_shell\", \"su_attempted\", \"num_root\",\n",
    "         \"num_file_creations\", \"num_shells\", \"num_access_files\", \"num_outbound_cmds\",\n",
    "         \"is_host_login\", \"is_guest_login\", \"count\", \"srv_count\", \"serror_rate\",\n",
    "         \"srv_serror_rate\", \"rerror_rate\", \"srv_rerror_rate\", \"same_srv_rate\",\n",
    "         \"diff_srv_rate\", \"srv_diff_host_rate\", \"dst_host_count\", \"dst_host_srv_count\",\n",
    "         \"dst_host_same_srv_rate\", \"dst_host_diff_srv_rate\", \"dst_host_same_src_port_rate\",\n",
    "         \"dst_host_srv_diff_host_rate\", \"dst_host_serror_rate\", \"dst_host_srv_serror_rate\",\n",
    "         \"dst_host_rerror_rate\", \"dst_host_srv_rerror_rate\", \"label\"]"
   ]
  },
  {
   "cell_type": "code",
   "execution_count": 8,
   "metadata": {},
   "outputs": [],
   "source": [
    "# Leitura_arquivo\n",
    "data = pd.read_csv(r\"kd9.csv\", names=colunas, encoding='utf-8',sep= ';')"
   ]
  },
  {
   "cell_type": "code",
   "execution_count": 9,
   "metadata": {},
   "outputs": [
    {
     "data": {
      "text/html": [
       "<div>\n",
       "<style scoped>\n",
       "    .dataframe tbody tr th:only-of-type {\n",
       "        vertical-align: middle;\n",
       "    }\n",
       "\n",
       "    .dataframe tbody tr th {\n",
       "        vertical-align: top;\n",
       "    }\n",
       "\n",
       "    .dataframe thead th {\n",
       "        text-align: right;\n",
       "    }\n",
       "</style>\n",
       "<table border=\"1\" class=\"dataframe\">\n",
       "  <thead>\n",
       "    <tr style=\"text-align: right;\">\n",
       "      <th></th>\n",
       "      <th>duration</th>\n",
       "      <th>protocol_type</th>\n",
       "      <th>service</th>\n",
       "      <th>flag</th>\n",
       "      <th>src_bytes</th>\n",
       "      <th>dst_bytes</th>\n",
       "      <th>land</th>\n",
       "      <th>wrong_fragment</th>\n",
       "      <th>urgent</th>\n",
       "      <th>hot</th>\n",
       "      <th>...</th>\n",
       "      <th>dst_host_srv_count</th>\n",
       "      <th>dst_host_same_srv_rate</th>\n",
       "      <th>dst_host_diff_srv_rate</th>\n",
       "      <th>dst_host_same_src_port_rate</th>\n",
       "      <th>dst_host_srv_diff_host_rate</th>\n",
       "      <th>dst_host_serror_rate</th>\n",
       "      <th>dst_host_srv_serror_rate</th>\n",
       "      <th>dst_host_rerror_rate</th>\n",
       "      <th>dst_host_srv_rerror_rate</th>\n",
       "      <th>label</th>\n",
       "    </tr>\n",
       "  </thead>\n",
       "  <tbody>\n",
       "    <tr>\n",
       "      <td>0</td>\n",
       "      <td>0</td>\n",
       "      <td>tcp</td>\n",
       "      <td>http</td>\n",
       "      <td>SF</td>\n",
       "      <td>181</td>\n",
       "      <td>5450</td>\n",
       "      <td>0</td>\n",
       "      <td>0</td>\n",
       "      <td>0</td>\n",
       "      <td>0</td>\n",
       "      <td>...</td>\n",
       "      <td>9</td>\n",
       "      <td>1.0</td>\n",
       "      <td>0.0</td>\n",
       "      <td>0.11</td>\n",
       "      <td>0.0</td>\n",
       "      <td>0.0</td>\n",
       "      <td>0.0</td>\n",
       "      <td>0.0</td>\n",
       "      <td>0.0</td>\n",
       "      <td>normal.</td>\n",
       "    </tr>\n",
       "    <tr>\n",
       "      <td>1</td>\n",
       "      <td>0</td>\n",
       "      <td>tcp</td>\n",
       "      <td>http</td>\n",
       "      <td>SF</td>\n",
       "      <td>239</td>\n",
       "      <td>486</td>\n",
       "      <td>0</td>\n",
       "      <td>0</td>\n",
       "      <td>0</td>\n",
       "      <td>0</td>\n",
       "      <td>...</td>\n",
       "      <td>19</td>\n",
       "      <td>1.0</td>\n",
       "      <td>0.0</td>\n",
       "      <td>0.05</td>\n",
       "      <td>0.0</td>\n",
       "      <td>0.0</td>\n",
       "      <td>0.0</td>\n",
       "      <td>0.0</td>\n",
       "      <td>0.0</td>\n",
       "      <td>normal.</td>\n",
       "    </tr>\n",
       "  </tbody>\n",
       "</table>\n",
       "<p>2 rows × 42 columns</p>\n",
       "</div>"
      ],
      "text/plain": [
       "   duration protocol_type service flag  src_bytes  dst_bytes  land  \\\n",
       "0         0           tcp    http   SF        181       5450     0   \n",
       "1         0           tcp    http   SF        239        486     0   \n",
       "\n",
       "   wrong_fragment  urgent  hot  ...  dst_host_srv_count  \\\n",
       "0               0       0    0  ...                   9   \n",
       "1               0       0    0  ...                  19   \n",
       "\n",
       "   dst_host_same_srv_rate  dst_host_diff_srv_rate  \\\n",
       "0                     1.0                     0.0   \n",
       "1                     1.0                     0.0   \n",
       "\n",
       "   dst_host_same_src_port_rate  dst_host_srv_diff_host_rate  \\\n",
       "0                         0.11                          0.0   \n",
       "1                         0.05                          0.0   \n",
       "\n",
       "   dst_host_serror_rate  dst_host_srv_serror_rate  dst_host_rerror_rate  \\\n",
       "0                   0.0                       0.0                   0.0   \n",
       "1                   0.0                       0.0                   0.0   \n",
       "\n",
       "   dst_host_srv_rerror_rate    label  \n",
       "0                       0.0  normal.  \n",
       "1                       0.0  normal.  \n",
       "\n",
       "[2 rows x 42 columns]"
      ]
     },
     "execution_count": 9,
     "metadata": {},
     "output_type": "execute_result"
    }
   ],
   "source": [
    "data.head(2)"
   ]
  },
  {
   "cell_type": "markdown",
   "metadata": {},
   "source": [
    "## Descrição dos atributos (colunas)\n",
    "#duration =\tlength (number of seconds) of the connection \tcontinuous\n",
    "#protocol_type = type of the protocol, e.g. tcp, udp, etc. \tdiscrete\n",
    "#service =\tnetwork service on the destination, e.g., http, telnet, etc. \tdiscrete\n",
    "#src_bytes = number of data bytes from source to destination \tcontinuous\n",
    "#dst_bytes = number of data bytes from destination to source \tcontinuous\n",
    "#flag =\tnormal or error status of the connection \tdiscrete \n",
    "#land =\t1 if connection is from/to the same host/port; 0 otherwise \tdiscrete\n",
    "#wrong_fragment = number of ``wrong'' fragments \tcontinuous\n",
    "#urgent =\tnumber of urgent packets \tcontinuous\n",
    "#hot =\tnumber of ``hot'' indicators\tcontinuous\n",
    "#num_failed_logins = number of failed login attempts \tcontinuous\n",
    "#logged_in = 1 if successfully logged in; 0 otherwise \tdiscrete\n",
    "#num_compromised = number of ``compromised'' conditions \tcontinuous\n",
    "#root_shell = 1 if root shell is obtained; 0 otherwise \tdiscrete\n",
    "#su_attempted =\t1 if ``su root'' command attempted; 0 otherwise \tdiscrete\n",
    "#num_root =\tnumber of ``root'' accesses \tcontinuous\n",
    "#num_file_creations =\tnumber of file creation operations \tcontinuous\n",
    "#num_shells =\tnumber of shell prompts \tcontinuous\n",
    "#num_access_files =\tnumber of operations on access control files \tcontinuous\n",
    "#num_outbound_cmds = number of outbound commands in an ftp session \tcontinuous\n",
    "#is_hot_login =\t1 if the login belongs to the ``hot'' list; 0 otherwise \tdiscrete\n",
    "#is_guest_login = 1 if the login is a ``guest''login; 0 otherwise \tdiscrete\n",
    "#count = number of connections to the same host as the current connection in the past two seconds \tcontinuous\n",
    "### Note: The following  features refer to these same-host connections.\t\n",
    "#serror_rate: \t% of connections that have ``SYN'' errors \tcontinuous\n",
    "#rerror_rate:\t% of connections that have ``REJ'' errors \tcontinuous\n",
    "#same_srv_rate: \t% of connections to the same service \tcontinuous\n",
    "#diff_srv_rate: \t% of connections to different services \tcontinuous\n",
    "#srv_count: \tnumber of connections to the same service as the current connection in the past two seconds \tcontinuous\n",
    "### Note: The following features refer to these same-service connections.\t\n",
    "#srv_serror_rate: \t% of connections that have ``SYN'' errors \tcontinuous\n",
    "#srv_rerror_rate:\t% of connections that have ``REJ'' errors \tcontinuous\n",
    "#srv_diff_host_rate: % of connections to different hosts \tcontinuous "
   ]
  },
  {
   "cell_type": "code",
   "execution_count": 10,
   "metadata": {},
   "outputs": [],
   "source": [
    "# Preparação do dataset\n",
    "pd.set_option('display.width', 2000)\n",
    "pd.set_option('display.max_column', 50)\n",
    "pd.set_option('precision', 3)\n",
    "data1 = data\n",
    "# retirada de colunas com dados categóricos\n",
    "data1 = data1.drop('protocol_type', axis=1)\n",
    "data1 = data1.drop('service', axis=1)\n",
    "data1 = data1.drop('flag', axis=1)\n",
    "data1 = data1.drop('label', axis=1)"
   ]
  },
  {
   "cell_type": "code",
   "execution_count": 11,
   "metadata": {},
   "outputs": [
    {
     "data": {
      "image/png": "[encoded data removed]",
      "text/plain": [
       "<Figure size 864x576 with 2 Axes>"
      ]
     },
     "metadata": {
      "needs_background": "light"
     },
     "output_type": "display_data"
    }
   ],
   "source": [
    "# Análise_Exploratória_A\n",
    "# uso função pandas corr = matriz de correlação entre variáveis\n",
    "cor = data1.corr()\n",
    "fig = plt.figure()\n",
    "subFig = fig.add_subplot(111)\n",
    "\n",
    "cax = subFig.matshow(cor, vmin=-1, vmax=1)\n",
    "fig.colorbar(cax)\n",
    "\n",
    "ticks = np.arange(0, len(data1.columns))\n",
    "subFig.set_xticks(ticks)\n",
    "subFig.set_yticks(ticks)\n",
    "subFig.set_xticklabels(data1.columns, rotation='vertical', size=7)\n",
    "subFig.set_yticklabels(data1.columns, size=7)\n",
    "\n",
    "plt.show()"
   ]
  },
  {
   "cell_type": "code",
   "execution_count": 12,
   "metadata": {},
   "outputs": [],
   "source": [
    "# eliminação de colunas_desnecessárias\n",
    "data = data.drop(columns=['is_host_login','num_outbound_cmds'])"
   ]
  },
  {
   "cell_type": "code",
   "execution_count": 13,
   "metadata": {},
   "outputs": [
    {
     "data": {
      "text/html": [
       "<div>\n",
       "<style scoped>\n",
       "    .dataframe tbody tr th:only-of-type {\n",
       "        vertical-align: middle;\n",
       "    }\n",
       "\n",
       "    .dataframe tbody tr th {\n",
       "        vertical-align: top;\n",
       "    }\n",
       "\n",
       "    .dataframe thead th {\n",
       "        text-align: right;\n",
       "    }\n",
       "</style>\n",
       "<table border=\"1\" class=\"dataframe\">\n",
       "  <thead>\n",
       "    <tr style=\"text-align: right;\">\n",
       "      <th></th>\n",
       "      <th>duration</th>\n",
       "      <th>protocol_type</th>\n",
       "      <th>service</th>\n",
       "      <th>flag</th>\n",
       "      <th>src_bytes</th>\n",
       "      <th>dst_bytes</th>\n",
       "      <th>land</th>\n",
       "      <th>wrong_fragment</th>\n",
       "      <th>urgent</th>\n",
       "      <th>hot</th>\n",
       "      <th>num_failed_logins</th>\n",
       "      <th>logged_in</th>\n",
       "      <th>num_compromised</th>\n",
       "      <th>root_shell</th>\n",
       "      <th>su_attempted</th>\n",
       "      <th>num_root</th>\n",
       "      <th>num_file_creations</th>\n",
       "      <th>num_shells</th>\n",
       "      <th>num_access_files</th>\n",
       "      <th>is_guest_login</th>\n",
       "      <th>count</th>\n",
       "      <th>srv_count</th>\n",
       "      <th>serror_rate</th>\n",
       "      <th>srv_serror_rate</th>\n",
       "      <th>rerror_rate</th>\n",
       "      <th>srv_rerror_rate</th>\n",
       "      <th>same_srv_rate</th>\n",
       "      <th>diff_srv_rate</th>\n",
       "      <th>srv_diff_host_rate</th>\n",
       "      <th>dst_host_count</th>\n",
       "      <th>dst_host_srv_count</th>\n",
       "      <th>dst_host_same_srv_rate</th>\n",
       "      <th>dst_host_diff_srv_rate</th>\n",
       "      <th>dst_host_same_src_port_rate</th>\n",
       "      <th>dst_host_srv_diff_host_rate</th>\n",
       "      <th>dst_host_serror_rate</th>\n",
       "      <th>dst_host_srv_serror_rate</th>\n",
       "      <th>dst_host_rerror_rate</th>\n",
       "      <th>dst_host_srv_rerror_rate</th>\n",
       "      <th>label</th>\n",
       "    </tr>\n",
       "  </thead>\n",
       "  <tbody>\n",
       "    <tr>\n",
       "      <td>0</td>\n",
       "      <td>0</td>\n",
       "      <td>tcp</td>\n",
       "      <td>http</td>\n",
       "      <td>SF</td>\n",
       "      <td>181</td>\n",
       "      <td>5450</td>\n",
       "      <td>0</td>\n",
       "      <td>0</td>\n",
       "      <td>0</td>\n",
       "      <td>0</td>\n",
       "      <td>0</td>\n",
       "      <td>1</td>\n",
       "      <td>0</td>\n",
       "      <td>0</td>\n",
       "      <td>0</td>\n",
       "      <td>0</td>\n",
       "      <td>0</td>\n",
       "      <td>0</td>\n",
       "      <td>0</td>\n",
       "      <td>0</td>\n",
       "      <td>8</td>\n",
       "      <td>8</td>\n",
       "      <td>0.0</td>\n",
       "      <td>0.0</td>\n",
       "      <td>0.0</td>\n",
       "      <td>0.0</td>\n",
       "      <td>1.0</td>\n",
       "      <td>0.0</td>\n",
       "      <td>0.0</td>\n",
       "      <td>9</td>\n",
       "      <td>9</td>\n",
       "      <td>1.0</td>\n",
       "      <td>0.0</td>\n",
       "      <td>0.11</td>\n",
       "      <td>0.0</td>\n",
       "      <td>0.0</td>\n",
       "      <td>0.0</td>\n",
       "      <td>0.0</td>\n",
       "      <td>0.0</td>\n",
       "      <td>normal.</td>\n",
       "    </tr>\n",
       "    <tr>\n",
       "      <td>1</td>\n",
       "      <td>0</td>\n",
       "      <td>tcp</td>\n",
       "      <td>http</td>\n",
       "      <td>SF</td>\n",
       "      <td>239</td>\n",
       "      <td>486</td>\n",
       "      <td>0</td>\n",
       "      <td>0</td>\n",
       "      <td>0</td>\n",
       "      <td>0</td>\n",
       "      <td>0</td>\n",
       "      <td>1</td>\n",
       "      <td>0</td>\n",
       "      <td>0</td>\n",
       "      <td>0</td>\n",
       "      <td>0</td>\n",
       "      <td>0</td>\n",
       "      <td>0</td>\n",
       "      <td>0</td>\n",
       "      <td>0</td>\n",
       "      <td>8</td>\n",
       "      <td>8</td>\n",
       "      <td>0.0</td>\n",
       "      <td>0.0</td>\n",
       "      <td>0.0</td>\n",
       "      <td>0.0</td>\n",
       "      <td>1.0</td>\n",
       "      <td>0.0</td>\n",
       "      <td>0.0</td>\n",
       "      <td>19</td>\n",
       "      <td>19</td>\n",
       "      <td>1.0</td>\n",
       "      <td>0.0</td>\n",
       "      <td>0.05</td>\n",
       "      <td>0.0</td>\n",
       "      <td>0.0</td>\n",
       "      <td>0.0</td>\n",
       "      <td>0.0</td>\n",
       "      <td>0.0</td>\n",
       "      <td>normal.</td>\n",
       "    </tr>\n",
       "  </tbody>\n",
       "</table>\n",
       "</div>"
      ],
      "text/plain": [
       "   duration protocol_type service flag  src_bytes  dst_bytes  land  wrong_fragment  urgent  hot  num_failed_logins  logged_in  num_compromised  root_shell  su_attempted  num_root  num_file_creations  num_shells  num_access_files  is_guest_login  count  srv_count  serror_rate  srv_serror_rate  rerror_rate  srv_rerror_rate  same_srv_rate  diff_srv_rate  srv_diff_host_rate  dst_host_count  dst_host_srv_count  dst_host_same_srv_rate  dst_host_diff_srv_rate  dst_host_same_src_port_rate  dst_host_srv_diff_host_rate  dst_host_serror_rate  dst_host_srv_serror_rate  dst_host_rerror_rate  dst_host_srv_rerror_rate    label\n",
       "0         0           tcp    http   SF        181       5450     0               0       0    0                  0          1                0           0             0         0                   0           0                 0               0      8          8          0.0              0.0          0.0              0.0            1.0            0.0                 0.0               9                   9                     1.0                     0.0                         0.11                          0.0                   0.0                       0.0                   0.0                       0.0  normal.\n",
       "1         0           tcp    http   SF        239        486     0               0       0    0                  0          1                0           0             0         0                   0           0                 0               0      8          8          0.0              0.0          0.0              0.0            1.0            0.0                 0.0              19                  19                     1.0                     0.0                         0.05                          0.0                   0.0                       0.0                   0.0                       0.0  normal."
      ]
     },
     "execution_count": 13,
     "metadata": {},
     "output_type": "execute_result"
    }
   ],
   "source": [
    "# confirmação_colunas_dataset\n",
    "data.head(2)"
   ]
  },
  {
   "cell_type": "markdown",
   "metadata": {},
   "source": [
    "### Análise Exploratória Inicial"
   ]
  },
  {
   "cell_type": "code",
   "execution_count": 14,
   "metadata": {},
   "outputs": [],
   "source": [
    "# avaliação dos ataques - indicados pelo 'label'\n",
    "dataDN=data.iloc[:,-1]"
   ]
  },
  {
   "cell_type": "code",
   "execution_count": 15,
   "metadata": {},
   "outputs": [],
   "source": [
    "dataDN=pd.DataFrame(dataDN)"
   ]
  },
  {
   "cell_type": "code",
   "execution_count": 16,
   "metadata": {},
   "outputs": [
    {
     "data": {
      "text/html": [
       "<div>\n",
       "<style scoped>\n",
       "    .dataframe tbody tr th:only-of-type {\n",
       "        vertical-align: middle;\n",
       "    }\n",
       "\n",
       "    .dataframe tbody tr th {\n",
       "        vertical-align: top;\n",
       "    }\n",
       "\n",
       "    .dataframe thead th {\n",
       "        text-align: right;\n",
       "    }\n",
       "</style>\n",
       "<table border=\"1\" class=\"dataframe\">\n",
       "  <thead>\n",
       "    <tr style=\"text-align: right;\">\n",
       "      <th></th>\n",
       "      <th>label</th>\n",
       "    </tr>\n",
       "  </thead>\n",
       "  <tbody>\n",
       "    <tr>\n",
       "      <td>0</td>\n",
       "      <td>normal.</td>\n",
       "    </tr>\n",
       "    <tr>\n",
       "      <td>1</td>\n",
       "      <td>normal.</td>\n",
       "    </tr>\n",
       "  </tbody>\n",
       "</table>\n",
       "</div>"
      ],
      "text/plain": [
       "     label\n",
       "0  normal.\n",
       "1  normal."
      ]
     },
     "execution_count": 16,
     "metadata": {},
     "output_type": "execute_result"
    }
   ],
   "source": [
    "# reconheciento dos 'labels'\n",
    "dataDN.head(2)"
   ]
  },
  {
   "cell_type": "code",
   "execution_count": 17,
   "metadata": {},
   "outputs": [],
   "source": [
    "# geração do nome das colunas para atributos\n",
    "dataND=data.drop(columns='label')"
   ]
  },
  {
   "cell_type": "code",
   "execution_count": 18,
   "metadata": {},
   "outputs": [
    {
     "data": {
      "text/html": [
       "<div>\n",
       "<style scoped>\n",
       "    .dataframe tbody tr th:only-of-type {\n",
       "        vertical-align: middle;\n",
       "    }\n",
       "\n",
       "    .dataframe tbody tr th {\n",
       "        vertical-align: top;\n",
       "    }\n",
       "\n",
       "    .dataframe thead th {\n",
       "        text-align: right;\n",
       "    }\n",
       "</style>\n",
       "<table border=\"1\" class=\"dataframe\">\n",
       "  <thead>\n",
       "    <tr style=\"text-align: right;\">\n",
       "      <th></th>\n",
       "      <th>duration</th>\n",
       "      <th>protocol_type</th>\n",
       "      <th>service</th>\n",
       "      <th>flag</th>\n",
       "      <th>src_bytes</th>\n",
       "      <th>dst_bytes</th>\n",
       "      <th>land</th>\n",
       "      <th>wrong_fragment</th>\n",
       "      <th>urgent</th>\n",
       "      <th>hot</th>\n",
       "      <th>num_failed_logins</th>\n",
       "      <th>logged_in</th>\n",
       "      <th>num_compromised</th>\n",
       "      <th>root_shell</th>\n",
       "      <th>su_attempted</th>\n",
       "      <th>num_root</th>\n",
       "      <th>num_file_creations</th>\n",
       "      <th>num_shells</th>\n",
       "      <th>num_access_files</th>\n",
       "      <th>is_guest_login</th>\n",
       "      <th>count</th>\n",
       "      <th>srv_count</th>\n",
       "      <th>serror_rate</th>\n",
       "      <th>srv_serror_rate</th>\n",
       "      <th>rerror_rate</th>\n",
       "      <th>srv_rerror_rate</th>\n",
       "      <th>same_srv_rate</th>\n",
       "      <th>diff_srv_rate</th>\n",
       "      <th>srv_diff_host_rate</th>\n",
       "      <th>dst_host_count</th>\n",
       "      <th>dst_host_srv_count</th>\n",
       "      <th>dst_host_same_srv_rate</th>\n",
       "      <th>dst_host_diff_srv_rate</th>\n",
       "      <th>dst_host_same_src_port_rate</th>\n",
       "      <th>dst_host_srv_diff_host_rate</th>\n",
       "      <th>dst_host_serror_rate</th>\n",
       "      <th>dst_host_srv_serror_rate</th>\n",
       "      <th>dst_host_rerror_rate</th>\n",
       "      <th>dst_host_srv_rerror_rate</th>\n",
       "    </tr>\n",
       "  </thead>\n",
       "  <tbody>\n",
       "    <tr>\n",
       "      <td>0</td>\n",
       "      <td>0</td>\n",
       "      <td>tcp</td>\n",
       "      <td>http</td>\n",
       "      <td>SF</td>\n",
       "      <td>181</td>\n",
       "      <td>5450</td>\n",
       "      <td>0</td>\n",
       "      <td>0</td>\n",
       "      <td>0</td>\n",
       "      <td>0</td>\n",
       "      <td>0</td>\n",
       "      <td>1</td>\n",
       "      <td>0</td>\n",
       "      <td>0</td>\n",
       "      <td>0</td>\n",
       "      <td>0</td>\n",
       "      <td>0</td>\n",
       "      <td>0</td>\n",
       "      <td>0</td>\n",
       "      <td>0</td>\n",
       "      <td>8</td>\n",
       "      <td>8</td>\n",
       "      <td>0.0</td>\n",
       "      <td>0.0</td>\n",
       "      <td>0.0</td>\n",
       "      <td>0.0</td>\n",
       "      <td>1.0</td>\n",
       "      <td>0.0</td>\n",
       "      <td>0.0</td>\n",
       "      <td>9</td>\n",
       "      <td>9</td>\n",
       "      <td>1.0</td>\n",
       "      <td>0.0</td>\n",
       "      <td>0.11</td>\n",
       "      <td>0.0</td>\n",
       "      <td>0.0</td>\n",
       "      <td>0.0</td>\n",
       "      <td>0.0</td>\n",
       "      <td>0.0</td>\n",
       "    </tr>\n",
       "    <tr>\n",
       "      <td>1</td>\n",
       "      <td>0</td>\n",
       "      <td>tcp</td>\n",
       "      <td>http</td>\n",
       "      <td>SF</td>\n",
       "      <td>239</td>\n",
       "      <td>486</td>\n",
       "      <td>0</td>\n",
       "      <td>0</td>\n",
       "      <td>0</td>\n",
       "      <td>0</td>\n",
       "      <td>0</td>\n",
       "      <td>1</td>\n",
       "      <td>0</td>\n",
       "      <td>0</td>\n",
       "      <td>0</td>\n",
       "      <td>0</td>\n",
       "      <td>0</td>\n",
       "      <td>0</td>\n",
       "      <td>0</td>\n",
       "      <td>0</td>\n",
       "      <td>8</td>\n",
       "      <td>8</td>\n",
       "      <td>0.0</td>\n",
       "      <td>0.0</td>\n",
       "      <td>0.0</td>\n",
       "      <td>0.0</td>\n",
       "      <td>1.0</td>\n",
       "      <td>0.0</td>\n",
       "      <td>0.0</td>\n",
       "      <td>19</td>\n",
       "      <td>19</td>\n",
       "      <td>1.0</td>\n",
       "      <td>0.0</td>\n",
       "      <td>0.05</td>\n",
       "      <td>0.0</td>\n",
       "      <td>0.0</td>\n",
       "      <td>0.0</td>\n",
       "      <td>0.0</td>\n",
       "      <td>0.0</td>\n",
       "    </tr>\n",
       "  </tbody>\n",
       "</table>\n",
       "</div>"
      ],
      "text/plain": [
       "   duration protocol_type service flag  src_bytes  dst_bytes  land  wrong_fragment  urgent  hot  num_failed_logins  logged_in  num_compromised  root_shell  su_attempted  num_root  num_file_creations  num_shells  num_access_files  is_guest_login  count  srv_count  serror_rate  srv_serror_rate  rerror_rate  srv_rerror_rate  same_srv_rate  diff_srv_rate  srv_diff_host_rate  dst_host_count  dst_host_srv_count  dst_host_same_srv_rate  dst_host_diff_srv_rate  dst_host_same_src_port_rate  dst_host_srv_diff_host_rate  dst_host_serror_rate  dst_host_srv_serror_rate  dst_host_rerror_rate  dst_host_srv_rerror_rate\n",
       "0         0           tcp    http   SF        181       5450     0               0       0    0                  0          1                0           0             0         0                   0           0                 0               0      8          8          0.0              0.0          0.0              0.0            1.0            0.0                 0.0               9                   9                     1.0                     0.0                         0.11                          0.0                   0.0                       0.0                   0.0                       0.0\n",
       "1         0           tcp    http   SF        239        486     0               0       0    0                  0          1                0           0             0         0                   0           0                 0               0      8          8          0.0              0.0          0.0              0.0            1.0            0.0                 0.0              19                  19                     1.0                     0.0                         0.05                          0.0                   0.0                       0.0                   0.0                       0.0"
      ]
     },
     "execution_count": 18,
     "metadata": {},
     "output_type": "execute_result"
    }
   ],
   "source": [
    "dataND.head(2)"
   ]
  },
  {
   "cell_type": "code",
   "execution_count": 19,
   "metadata": {},
   "outputs": [],
   "source": [
    "# Análise_Exploratória_B\n",
    "# Retirada de atributos correlatos -- threshold acima de 70% ou abaixo de -70%. Dados entre limites permaneceram\n",
    "x = list(cor.columns)\n",
    "g = []\n",
    "\n",
    "for i in x:\n",
    "    for j in x[:x.index(i)]:\n",
    "        if abs(cor[i][j]) >= 0.7:\n",
    "            g.append((i, j))\n",
    "o, c = [], 0\n",
    "for i in g:\n",
    "    for v in o:\n",
    "        if i[0] in [x for x in v] or i[1] in [x for x in v]:\n",
    "            c += 1\n",
    "    if c == 0:\n",
    "        s = {i[0], i[1]}\n",
    "        for j in g[g.index(i) + 1:]:\n",
    "            if i[0] == j[0] or i[0] == j[1] or i[1] == j[0] or i[1] == j[1]:\n",
    "                s.add(j[0])\n",
    "                s.add(j[1])\n",
    "\n",
    "        o.append(s)\n",
    "    c = 0\n",
    "b = []\n",
    "listd = set(b)\n",
    "for i in o:\n",
    "    for j in list(i)[:-1]:\n",
    "        listd.add(j)        # listd = lista das colunas correlacionadas\n",
    "\n",
    "for i in listd:\n",
    "    data = data.drop(i, axis=1)     # retirada das colunas correlacionadas"
   ]
  },
  {
   "cell_type": "code",
   "execution_count": 20,
   "metadata": {},
   "outputs": [],
   "source": [
    "# ETL_conversão_dados_categóricos em numéricos\n",
    "# Uso do labelEncoder\n",
    "dataX = data.values[:, :data.shape[1] - 1]   #dados_entrada\n",
    "dataY = data.values[:, data.shape[1] - 1] #dados_saída\n",
    "dataY1 = dataY\n",
    "dataX[:, 1] = LabelEncoder().fit_transform(dataX[:, 1])\n",
    "dataX[:, 2] = LabelEncoder().fit_transform(dataX[:, 2])\n",
    "dataX[:, 3] = LabelEncoder().fit_transform(dataX[:, 3])\n",
    "dataY = LabelEncoder().fit_transform(dataY)"
   ]
  },
  {
   "cell_type": "code",
   "execution_count": 21,
   "metadata": {},
   "outputs": [
    {
     "data": {
      "text/html": [
       "<div>\n",
       "<style scoped>\n",
       "    .dataframe tbody tr th:only-of-type {\n",
       "        vertical-align: middle;\n",
       "    }\n",
       "\n",
       "    .dataframe tbody tr th {\n",
       "        vertical-align: top;\n",
       "    }\n",
       "\n",
       "    .dataframe thead th {\n",
       "        text-align: right;\n",
       "    }\n",
       "</style>\n",
       "<table border=\"1\" class=\"dataframe\">\n",
       "  <thead>\n",
       "    <tr style=\"text-align: right;\">\n",
       "      <th></th>\n",
       "      <th>label</th>\n",
       "    </tr>\n",
       "  </thead>\n",
       "  <tbody>\n",
       "    <tr>\n",
       "      <td>count</td>\n",
       "      <td>494021</td>\n",
       "    </tr>\n",
       "    <tr>\n",
       "      <td>unique</td>\n",
       "      <td>23</td>\n",
       "    </tr>\n",
       "    <tr>\n",
       "      <td>top</td>\n",
       "      <td>smurf.</td>\n",
       "    </tr>\n",
       "    <tr>\n",
       "      <td>freq</td>\n",
       "      <td>280790</td>\n",
       "    </tr>\n",
       "  </tbody>\n",
       "</table>\n",
       "</div>"
      ],
      "text/plain": [
       "         label\n",
       "count   494021\n",
       "unique      23\n",
       "top     smurf.\n",
       "freq    280790"
      ]
     },
     "execution_count": 21,
     "metadata": {},
     "output_type": "execute_result"
    }
   ],
   "source": [
    "dataDN.describe()"
   ]
  },
  {
   "cell_type": "code",
   "execution_count": 22,
   "metadata": {},
   "outputs": [
    {
     "name": "stdout",
     "output_type": "stream",
     "text": [
      "          label  label_encoded\n",
      "0       normal.             11\n",
      "1       normal.             11\n",
      "2       normal.             11\n",
      "3       normal.             11\n",
      "4       normal.             11\n",
      "...         ...            ...\n",
      "494016  normal.             11\n",
      "494017  normal.             11\n",
      "494018  normal.             11\n",
      "494019  normal.             11\n",
      "494020  normal.             11\n",
      "\n",
      "[494021 rows x 2 columns]\n"
     ]
    }
   ],
   "source": [
    "# correlação entre o tipo de ataque e label_encoded\n",
    "le = LabelEncoder()\n",
    "labelYD = dataDN[['label']].copy() #Create an extra dataframe which will be used to address only the encoded values\n",
    "labelYD['label_encoded'] = le.fit_transform(dataDN['label'].values) #Using values is faster than using list\n",
    "print(labelYD)"
   ]
  },
  {
   "cell_type": "code",
   "execution_count": 23,
   "metadata": {},
   "outputs": [
    {
     "data": {
      "text/html": [
       "<div>\n",
       "<style scoped>\n",
       "    .dataframe tbody tr th:only-of-type {\n",
       "        vertical-align: middle;\n",
       "    }\n",
       "\n",
       "    .dataframe tbody tr th {\n",
       "        vertical-align: top;\n",
       "    }\n",
       "\n",
       "    .dataframe thead th {\n",
       "        text-align: right;\n",
       "    }\n",
       "</style>\n",
       "<table border=\"1\" class=\"dataframe\">\n",
       "  <thead>\n",
       "    <tr style=\"text-align: right;\">\n",
       "      <th></th>\n",
       "      <th>label_encoded</th>\n",
       "    </tr>\n",
       "  </thead>\n",
       "  <tbody>\n",
       "    <tr>\n",
       "      <td>count</td>\n",
       "      <td>494021.000</td>\n",
       "    </tr>\n",
       "    <tr>\n",
       "      <td>mean</td>\n",
       "      <td>14.546</td>\n",
       "    </tr>\n",
       "    <tr>\n",
       "      <td>std</td>\n",
       "      <td>4.161</td>\n",
       "    </tr>\n",
       "    <tr>\n",
       "      <td>min</td>\n",
       "      <td>0.000</td>\n",
       "    </tr>\n",
       "    <tr>\n",
       "      <td>25%</td>\n",
       "      <td>11.000</td>\n",
       "    </tr>\n",
       "    <tr>\n",
       "      <td>50%</td>\n",
       "      <td>18.000</td>\n",
       "    </tr>\n",
       "    <tr>\n",
       "      <td>75%</td>\n",
       "      <td>18.000</td>\n",
       "    </tr>\n",
       "    <tr>\n",
       "      <td>max</td>\n",
       "      <td>22.000</td>\n",
       "    </tr>\n",
       "  </tbody>\n",
       "</table>\n",
       "</div>"
      ],
      "text/plain": [
       "       label_encoded\n",
       "count     494021.000\n",
       "mean          14.546\n",
       "std            4.161\n",
       "min            0.000\n",
       "25%           11.000\n",
       "50%           18.000\n",
       "75%           18.000\n",
       "max           22.000"
      ]
     },
     "execution_count": 23,
     "metadata": {},
     "output_type": "execute_result"
    }
   ],
   "source": [
    "labelYD.describe()\n",
    "# há mais de um tipo de ataque"
   ]
  },
  {
   "cell_type": "markdown",
   "metadata": {},
   "source": [
    "### Códigos do LabelEncoder_Ataques"
   ]
  },
  {
   "cell_type": "code",
   "execution_count": 24,
   "metadata": {},
   "outputs": [
    {
     "data": {
      "text/plain": [
       "label            neptune.\n",
       "label_encoded           9\n",
       "Name: 116470, dtype: object"
      ]
     },
     "execution_count": 24,
     "metadata": {},
     "output_type": "execute_result"
    }
   ],
   "source": [
    "labelYD.loc[116470,:]\n",
    "# neptune = ataque do tipo DoS"
   ]
  },
  {
   "cell_type": "code",
   "execution_count": 25,
   "metadata": {},
   "outputs": [
    {
     "data": {
      "text/plain": [
       "label            normal.\n",
       "label_encoded         11\n",
       "Name: 1, dtype: object"
      ]
     },
     "execution_count": 25,
     "metadata": {},
     "output_type": "execute_result"
    }
   ],
   "source": [
    "labelYD.loc[1,:]\n",
    "# normal = não é um ataque, acesso simples."
   ]
  },
  {
   "cell_type": "code",
   "execution_count": 26,
   "metadata": {},
   "outputs": [
    {
     "data": {
      "text/plain": [
       "label            ipsweep.\n",
       "label_encoded           5\n",
       "Name: 52476, dtype: object"
      ]
     },
     "execution_count": 26,
     "metadata": {},
     "output_type": "execute_result"
    }
   ],
   "source": [
    "labelYD.loc[52476,:]\n",
    "# ipsweep = ataque to tipo 'probe'"
   ]
  },
  {
   "cell_type": "code",
   "execution_count": 27,
   "metadata": {},
   "outputs": [
    {
     "data": {
      "text/plain": [
       "label            smurf.\n",
       "label_encoded        18\n",
       "Name: 159985, dtype: object"
      ]
     },
     "execution_count": 27,
     "metadata": {},
     "output_type": "execute_result"
    }
   ],
   "source": [
    "labelYD.loc[159985,:]\n",
    "# smurf = ataque do tipo DoS"
   ]
  },
  {
   "cell_type": "code",
   "execution_count": 28,
   "metadata": {},
   "outputs": [
    {
     "data": {
      "text/plain": [
       "label            satan.\n",
       "label_encoded        17\n",
       "Name: 140789, dtype: object"
      ]
     },
     "execution_count": 28,
     "metadata": {},
     "output_type": "execute_result"
    }
   ],
   "source": [
    "labelYD.loc[140789,:]\n",
    "# satan = ataque do tipo 'probe'"
   ]
  },
  {
   "cell_type": "code",
   "execution_count": 29,
   "metadata": {},
   "outputs": [
    {
     "data": {
      "text/plain": [
       "label            warezclient.\n",
       "label_encoded              21\n",
       "Name: 140500, dtype: object"
      ]
     },
     "execution_count": 29,
     "metadata": {},
     "output_type": "execute_result"
    }
   ],
   "source": [
    "labelYD.loc[140500,:]\n",
    "# warezclient = ataque do tipo 'remote local atack'"
   ]
  },
  {
   "cell_type": "code",
   "execution_count": 30,
   "metadata": {},
   "outputs": [
    {
     "data": {
      "text/plain": [
       "label            spy.\n",
       "label_encoded      19\n",
       "Name: 140388, dtype: object"
      ]
     },
     "execution_count": 30,
     "metadata": {},
     "output_type": "execute_result"
    }
   ],
   "source": [
    "labelYD.loc[140388,:]\n",
    "# spy = ataque do tipo 'remote local atack'"
   ]
  },
  {
   "cell_type": "code",
   "execution_count": 31,
   "metadata": {},
   "outputs": [
    {
     "data": {
      "text/plain": [
       "label            back.\n",
       "label_encoded        0\n",
       "Name: 136619, dtype: object"
      ]
     },
     "execution_count": 31,
     "metadata": {},
     "output_type": "execute_result"
    }
   ],
   "source": [
    "labelYD.loc[136619,:]\n",
    "# back = ataque do tipo 'remote local atack'"
   ]
  },
  {
   "cell_type": "markdown",
   "metadata": {},
   "source": [
    "### Distribuição dos ataques"
   ]
  },
  {
   "cell_type": "code",
   "execution_count": 32,
   "metadata": {},
   "outputs": [
    {
     "data": {
      "text/plain": [
       "array([[<AxesSubplot:title={'center':'label_encoded'}>]], dtype=object)"
      ]
     },
     "execution_count": 32,
     "metadata": {},
     "output_type": "execute_result"
    },
    {
     "data": {
      "image/png": "[encoded data removed]",
      "text/plain": [
       "<Figure size 864x576 with 1 Axes>"
      ]
     },
     "metadata": {
      "needs_background": "light"
     },
     "output_type": "display_data"
    }
   ],
   "source": [
    "labelYD.hist()"
   ]
  },
  {
   "cell_type": "code",
   "execution_count": 33,
   "metadata": {},
   "outputs": [],
   "source": [
    "# ETL_preservação_labels\n",
    "label = {}\n",
    "# Storig the label in a dictionary of label as key and value as encoded form of that label.\n",
    "for i in range(len(dataY1)):\n",
    "    label[dataY[i]] = dataY1[i]"
   ]
  },
  {
   "cell_type": "markdown",
   "metadata": {},
   "source": [
    "### Algoritmos de ML"
   ]
  },
  {
   "cell_type": "code",
   "execution_count": 34,
   "metadata": {},
   "outputs": [
    {
     "name": "stdout",
     "output_type": "stream",
     "text": [
      "SVC: Acurácia_LinearSVC :  58.17\n",
      "SVC: Acurácia_SVC_kfold10 :  81.04\n",
      "Perceptron: Acurácia_Perceptron :  67.7\n",
      "Perceptron: Acurácia_Perceptron_k-fold10 :  24.91\n",
      "KNN: Acurácia_KNN :  99.86\n",
      "KNN: Acurácia_KNN_kfold10 :  99.81\n",
      "SGDC: Acurácia_Stochastic Gradient Descent :  72.01\n",
      "SGDC: Acurácia_SGDC_kfold10 :  34.99\n",
      "XGBoost: Acurácia_XGBoost :  19.71\n",
      "XGBoost: Acurácia_XGBoost_kfold10 :  99.94\n"
     ]
    },
    {
     "data": {
      "image/png": "[encoded data removed]",
      "text/plain": [
       "<Figure size 864x576 with 1 Axes>"
      ]
     },
     "metadata": {
      "needs_background": "light"
     },
     "output_type": "display_data"
    },
    {
     "data": {
      "image/png": "[encoded data removed]",
      "text/plain": [
       "<Figure size 864x576 with 1 Axes>"
      ]
     },
     "metadata": {
      "needs_background": "light"
     },
     "output_type": "display_data"
    }
   ],
   "source": [
    "# Função_Classificação_ML_acurácia\n",
    "def acr(x, y):\n",
    "    l = []\n",
    "    k = []\n",
    "    # divisão treino_teste_threshold 1/4\n",
    "    x_train, x_val, y_train, y_val = train_test_split(x, y, test_size=0.25, random_state=7)\n",
    "    # normalização de dados\n",
    "    fit = Normalizer().fit(x_train)\n",
    "    x_train = fit.fit_transform(x_train)\n",
    "\n",
    "    # MODEL_Linear SVC\n",
    "    linear_svc = LinearSVC()\n",
    "    linear_svc.fit(x_train, y_train)\n",
    "    y_pred = linear_svc.predict(x_val)\n",
    "    acc_linear_svc = round(accuracy_score(y_pred, y_val) * 100, 2)\n",
    "    print(\"SVC: Acurácia_LinearSVC : \", acc_linear_svc)\n",
    "    l.append(acc_linear_svc)\n",
    "    #k_fold = 10\n",
    "    acc_linear_svck = cross_val_score(linear_svc, x_val, y_val, cv=10, scoring='accuracy')\n",
    "    print(\"SVC: Acurácia_SVC_kfold10 : \", round(acc_linear_svck.mean() *100, 2))\n",
    "    k.append(round(acc_linear_svck.mean() *100, 2))\n",
    "\n",
    "    # MODEL_Perceptron\n",
    "    perceptron = Perceptron()\n",
    "    perceptron.fit(x_train, y_train)\n",
    "    y_pred = perceptron.predict(x_val)\n",
    "    acc_perceptron = round(accuracy_score(y_pred, y_val) * 100, 2)\n",
    "    print(\"Perceptron: Acurácia_Perceptron : \", acc_perceptron)\n",
    "    l.append(acc_perceptron)\n",
    "    acc_perceptronk = cross_val_score(perceptron, x_val, y_val, cv=10, scoring='accuracy')\n",
    "    print(\"Perceptron: Acurácia_Perceptron_k-fold10 : \", round(acc_perceptronk.mean() * 100, 2))\n",
    "    k.append(round(acc_perceptronk.mean() * 100, 2))\n",
    "   \n",
    "    # MODEL_KNN\n",
    "    knn = KNeighborsClassifier()\n",
    "    knn.fit(x_train, y_train)\n",
    "    y_pred = knn.predict(x_val)\n",
    "    acc_knn = round(accuracy_score(y_pred, y_val) * 100, 2)\n",
    "    print(\"KNN: Acurácia_KNN : \", acc_knn)\n",
    "    l.append(acc_knn)\n",
    "    acc_knnk = cross_val_score(knn, x_val, y_val, cv=10, scoring='accuracy')\n",
    "    print(\"KNN: Acurácia_KNN_kfold10 : \", round(acc_knnk.mean() * 100, 2))\n",
    "    k.append(round(acc_knnk.mean() * 100, 2))\n",
    "\n",
    "    # MODEL_Stochastic Gradient Descent\n",
    "    sgd = SGDClassifier()\n",
    "    sgd.fit(x_train, y_train)\n",
    "    y_pred = sgd.predict(x_val)\n",
    "    acc_sgd = round(accuracy_score(y_pred, y_val) * 100, 2)\n",
    "    print(\"SGDC: Acurácia_Stochastic Gradient Descent : \", acc_sgd)\n",
    "    l.append(acc_sgd)\n",
    "    acc_sgdk = cross_val_score(sgd, x_val, y_val, cv=10, scoring='accuracy')\n",
    "    print(\"SGDC: Acurácia_SGDC_kfold10 : \", round(acc_sgdk.mean() * 100, 2))\n",
    "    k.append(round(acc_sgdk.mean() * 100, 2))\n",
    "   \n",
    "    # MODEL_XGBoost\n",
    "    classifier = XGBClassifier()\n",
    "    classifier.fit(x_train, y_train)\n",
    "    y_pred = classifier.predict(x_val)\n",
    "    acc_xgb=round(accuracy_score(y_pred, y_val) * 100, 2)\n",
    "    print(\"XGBoost: Acurácia_XGBoost : \", acc_xgb)\n",
    "    l.append(acc_xgb)\n",
    "    acc_xgbk = cross_val_score(classifier, x_val, y_val, cv=10, scoring='accuracy')\n",
    "    print(\"XGBoost: Acurácia_XGBoost_kfold10 : \", round(acc_xgbk.mean() * 100, 2))\n",
    "    k.append(round(acc_xgbk.mean() * 100, 2))\n",
    "\n",
    "    classifiers=['LinearSVC', 'Perceptron','KNeighborsClassifier','SGDClassifier','XGBoost']\n",
    "    plt.bar(classifiers, l, color=['b','m','g','y','maroon','cyan'])\n",
    "    plt.xticks(classifiers, rotation='vertical')\n",
    "    plt.xlabel('Classificadores')\n",
    "    plt.ylabel('Acurácias')\n",
    "    plt.title(\"Acurácia_Score()\")\n",
    "    plt.show()\n",
    "    l = []\n",
    "    plt.bar(classifiers, k, color=['b', 'm', 'g', 'y', 'maroon', 'cyan'])\n",
    "    plt.xticks(classifiers, rotation='vertical')\n",
    "    plt.xlabel('Classificadores')\n",
    "    plt.ylabel('Acurácias')\n",
    "    plt.title(\"KFolds10\")\n",
    "    plt.show()\n",
    "    k=[]\n",
    "\n",
    "acr(dataX,dataY)"
   ]
  },
  {
   "cell_type": "markdown",
   "metadata": {},
   "source": [
    "### Avaliação da importância dos atributos"
   ]
  },
  {
   "cell_type": "code",
   "execution_count": 57,
   "metadata": {},
   "outputs": [],
   "source": [
    "from sklearn.ensemble import RandomForestRegressor"
   ]
  },
  {
   "cell_type": "code",
   "execution_count": 58,
   "metadata": {},
   "outputs": [],
   "source": [
    "x_train, x_val, y_train, y_val = train_test_split(dataX, dataY, test_size=0.25, random_state=7)"
   ]
  },
  {
   "cell_type": "code",
   "execution_count": 59,
   "metadata": {},
   "outputs": [
    {
     "data": {
      "text/plain": [
       "RandomForestRegressor(bootstrap=True, criterion='mse', max_depth=None,\n",
       "                      max_features='auto', max_leaf_nodes=None,\n",
       "                      min_impurity_decrease=0.0, min_impurity_split=None,\n",
       "                      min_samples_leaf=1, min_samples_split=2,\n",
       "                      min_weight_fraction_leaf=0.0, n_estimators=100,\n",
       "                      n_jobs=None, oob_score=False, random_state=None,\n",
       "                      verbose=0, warm_start=False)"
      ]
     },
     "execution_count": 59,
     "metadata": {},
     "output_type": "execute_result"
    }
   ],
   "source": [
    "rf = RandomForestRegressor(n_estimators=100)\n",
    "rf.fit(x_train, y_train)"
   ]
  },
  {
   "cell_type": "code",
   "execution_count": 38,
   "metadata": {},
   "outputs": [
    {
     "data": {
      "text/plain": [
       "array([2.41400179e-03, 8.79345227e-01, 6.16210825e-04, 2.73039490e-03,\n",
       "       3.42008729e-02, 9.15272886e-04, 2.49964879e-06, 8.47916645e-03,\n",
       "       1.54103702e-05, 2.90668187e-05, 9.46928597e-04, 2.46487575e-02,\n",
       "       5.69383724e-06, 3.29064679e-05, 1.05022845e-05, 1.94868979e-05,\n",
       "       1.58261142e-03, 2.45276938e-02, 1.43695388e-05, 9.08662285e-04,\n",
       "       1.72999472e-02, 9.13463369e-04, 2.44435209e-04, 9.64182383e-05])"
      ]
     },
     "execution_count": 38,
     "metadata": {},
     "output_type": "execute_result"
    }
   ],
   "source": [
    "rf.feature_importances_"
   ]
  },
  {
   "cell_type": "code",
   "execution_count": 39,
   "metadata": {},
   "outputs": [
    {
     "data": {
      "text/plain": [
       "Text(0.5, 0, 'Importância_parâmetros_Random_Forest')"
      ]
     },
     "execution_count": 39,
     "metadata": {},
     "output_type": "execute_result"
    },
    {
     "data": {
      "image/png": "[encoded data removed]",
      "text/plain": [
       "<Figure size 864x576 with 1 Axes>"
      ]
     },
     "metadata": {
      "needs_background": "light"
     },
     "output_type": "display_data"
    }
   ],
   "source": [
    "sorted_idx = rf.feature_importances_.argsort()\n",
    "feature_names=dataX\n",
    "plt.barh(dataND.columns[sorted_idx], rf.feature_importances_[sorted_idx])\n",
    "plt.xlabel(\"Importância_parâmetros_Random_Forest\")"
   ]
  },
  {
   "cell_type": "markdown",
   "metadata": {},
   "source": [
    "## Detecção de Intrusão_Redes Neurais"
   ]
  },
  {
   "cell_type": "code",
   "execution_count": null,
   "metadata": {},
   "outputs": [],
   "source": [
    "! pip install wandb"
   ]
  },
  {
   "cell_type": "code",
   "execution_count": null,
   "metadata": {},
   "outputs": [],
   "source": [
    "# Importação de bibliotecas\n",
    "import seaborn as sns\n",
    "from IPython.display import Image\n",
    "from sklearn.preprocessing import OneHotEncoder, MinMaxScaler\n",
    "from sklearn.metrics import f1_score, recall_score, precision_score, roc_curve, confusion_matrix\n",
    "import tensorflow as tf\n",
    "from tensorflow.keras.models import Sequential\n",
    "from tensorflow.keras.layers import Dense, Dropout, Activation, Flatten, Conv2D, MaxPooling2D\n",
    "from tensorflow.keras.optimizers import Adadelta,Adam,RMSprop\n",
    "from tensorflow.keras.callbacks import EarlyStopping, ModelCheckpoint\n",
    "import wandb\n",
    "from wandb.keras import WandbCallback\n",
    "\n",
    "%matplotlib inline "
   ]
  },
  {
   "cell_type": "code",
   "execution_count": null,
   "metadata": {},
   "outputs": [],
   "source": [
    "# Função_atribuição de número à classificação\n",
    "def custom_encoder(label):\n",
    "    if label in ['normal.']:\n",
    "        return 0\n",
    "    else:\n",
    "        return 1"
   ]
  },
  {
   "cell_type": "code",
   "execution_count": null,
   "metadata": {},
   "outputs": [],
   "source": [
    "# Alteração de categórico para numérico\n",
    "data['label'] = data['label'].apply(custom_encoder)\n",
    "# remoção de redundantes\n",
    "data = data.drop_duplicates()"
   ]
  },
  {
   "cell_type": "code",
   "execution_count": null,
   "metadata": {},
   "outputs": [],
   "source": [
    "# análise exploratória_RNN\n",
    "print(data.info())\n",
    "print(\"\\nNumber of NaN values:\", data.isnull().sum().sum())"
   ]
  },
  {
   "cell_type": "code",
   "execution_count": null,
   "metadata": {},
   "outputs": [],
   "source": [
    "numeric_cols = [i for i in data.columns if i not in ['protocol_type','service', 'flag', 'land', 'logged_in',\n",
    "                                                   'is_guest_login', 'label']]\n",
    "categorical_cols_to_encode = ['protocol_type','service', 'flag']\n",
    "# Definição de escala\n",
    "mms = MinMaxScaler()\n",
    "# categorias_escalas_numéricas\n",
    "data[numeric_cols] = mms.fit_transform(data[numeric_cols])\n",
    "# Encode_categóricos\n",
    "data = pd.get_dummies(data, columns=categorical_cols_to_encode)"
   ]
  },
  {
   "cell_type": "code",
   "execution_count": null,
   "metadata": {},
   "outputs": [],
   "source": [
    "# Confirmação_depois_scaling\n",
    "data.isnull().any().sum()"
   ]
  },
  {
   "cell_type": "code",
   "execution_count": null,
   "metadata": {},
   "outputs": [],
   "source": [
    "# Preparação arquivos\n",
    "X_cols = [i for i in data.columns if i is not 'label']\n",
    "X_train, X_test, y_train, y_test = train_test_split(data[X_cols], data['label'], test_size=0.25, random_state=42)"
   ]
  },
  {
   "cell_type": "code",
   "execution_count": null,
   "metadata": {},
   "outputs": [],
   "source": [
    "X_train.shape"
   ]
  },
  {
   "cell_type": "code",
   "execution_count": null,
   "metadata": {},
   "outputs": [],
   "source": [
    "y_train.shape"
   ]
  },
  {
   "cell_type": "markdown",
   "metadata": {},
   "source": [
    "### Modelo_Rede_Neural"
   ]
  },
  {
   "cell_type": "code",
   "execution_count": null,
   "metadata": {},
   "outputs": [],
   "source": [
    "# acompanhamento de hiperparâmetros e métricas\n",
    "# requer acesso API ao site do wandb\n",
    "run = wandb.init(project=\"5734\", entity=\"65-1157\")"
   ]
  },
  {
   "cell_type": "code",
   "execution_count": null,
   "metadata": {},
   "outputs": [],
   "source": [
    "wandb.config = {\"learning_rate\": 0.001,\"epochs\": 5,\"batch_size\":36}"
   ]
  },
  {
   "cell_type": "code",
   "execution_count": null,
   "metadata": {},
   "outputs": [],
   "source": [
    "batch_size=36\n",
    "epochs=5"
   ]
  },
  {
   "cell_type": "code",
   "execution_count": null,
   "metadata": {},
   "outputs": [],
   "source": [
    "# Arquitetura do Modelo\n",
    "model = Sequential()\n",
    "\n",
    "model.add(Dense(102, input_shape=(102,)))\n",
    "model.add(Activation('relu'))\n",
    "\n",
    "model.add(Dense(87, activation='relu'))\n",
    "model.add(Dropout(0.5))\n",
    "\n",
    "model.add(Dense(10, activation='relu'))\n",
    "model.add(Dropout(0.2))\n",
    "\n",
    "model.add(Dense(1, activation='sigmoid'))\n",
    "model.compile(loss='binary_crossentropy', optimizer='SGD')\n",
    "\n",
    "print (model.summary())"
   ]
  },
  {
   "cell_type": "code",
   "execution_count": null,
   "metadata": {},
   "outputs": [],
   "source": [
    "monitor = EarlyStopping(monitor='val_loss', min_delta=1e-4, patience=20, verbose=2, mode='auto')\n",
    "\n",
    "checkpointer = ModelCheckpoint(filepath=\"model-best.h5\", verbose=1, save_best_only=True)\n",
    "\n",
    "model.fit(X_train, y_train, batch_size=batch_size,\n",
    "          validation_data=(X_test, y_test),\n",
    "          #callbacks=[WandbCallback(), monitor, checkpointer],\n",
    "          epochs=epochs, verbose=2)\n",
    "\n",
    "# Recarga dos melhores pesos\n",
    "model.load_weights('model-best.h5')\n",
    "\n",
    "# Parar a ferramenta de monitoração\n",
    "run.finish()"
   ]
  },
  {
   "cell_type": "code",
   "execution_count": null,
   "metadata": {},
   "outputs": [],
   "source": [
    "model.load_weights('model-best.h5')\n",
    "\n",
    "# Predição\n",
    "validation_preds = model.predict(X_test)\n",
    "validation_preds = np.round(validation_preds)\n",
    "\n",
    "# Métricas\n",
    "precision = precision_score(y_test, validation_preds, average='weighted')\n",
    "recall = recall_score(y_test, validation_preds, average='weighted')\n",
    "score = f1_score(y_test, validation_preds, average='weighted')\n",
    "\n",
    "print(\"Precisão_valores: {}\".format(precision))\n",
    "print(\"Recall_valores: {}\".format(recall))\n",
    "print(\"F1_valores: {}\".format(score))"
   ]
  },
  {
   "cell_type": "markdown",
   "metadata": {},
   "source": [
    "## Matriz de Confusão"
   ]
  },
  {
   "cell_type": "code",
   "execution_count": null,
   "metadata": {},
   "outputs": [],
   "source": [
    "cfm = confusion_matrix(validation_preds, y_test)\n",
    "plt.figure(figsize=(15,7))\n",
    "sns.heatmap(cfm,cmap=sns.color_palette(\"flare\", as_cmap=True), annot=True,fmt='',\n",
    "            xticklabels=['conexão_benéfica', 'ataque'], yticklabels=['conexão_benéfica', 'ataque'])"
   ]
  },
  {
   "cell_type": "markdown",
   "metadata": {},
   "source": [
    "## CNN_Keras"
   ]
  },
  {
   "cell_type": "code",
   "execution_count": null,
   "metadata": {},
   "outputs": [],
   "source": [
    "pip install keras upgrade"
   ]
  },
  {
   "cell_type": "code",
   "execution_count": null,
   "metadata": {},
   "outputs": [],
   "source": [
    "y_train_cnn = tf.keras.utils.to_categorical(y_train, 2)\n",
    "y_test_cnn = tf.keras.utils.to_categorical(y_test, 2)\n",
    "\n",
    "X_train_cnn = X_train.to_numpy().reshape((X_train.shape[0],1,X_train.shape[1],1))\n",
    "X_test_cnn = X_test.to_numpy().reshape((X_test.shape[0],1,X_test.shape[1],1))"
   ]
  },
  {
   "cell_type": "code",
   "execution_count": null,
   "metadata": {},
   "outputs": [],
   "source": [
    "cnn_model = Sequential()\n",
    "\n",
    "cnn_model.add(Conv2D(64, kernel_size=(1,7), strides=(1,1), activation='relu', input_shape=(1, 102, 1)))\n",
    "\n",
    "cnn_model.add(MaxPooling2D(pool_size=(1,2)))\n",
    "\n",
    "cnn_model.add(Flatten())\n",
    "\n",
    "cnn_model.add(Dense(1000, activation='relu'))\n",
    "\n",
    "# cnn_model.add(Dense(750, activation='relu'))\n",
    "\n",
    "cnn_model.add(Dropout(0.5))\n",
    "\n",
    "# cnn_model.add(Dense(500, activation='relu'))\n",
    "\n",
    "# cnn_model.add(Dense(200, activation='relu'))\n",
    "\n",
    "# cnn_model.add(Dropout(0.2))\n",
    "\n",
    "cnn_model.add(Dense(10, activation='relu'))\n",
    "\n",
    "cnn_model.add(Dropout(0.2))\n",
    "\n",
    "cnn_model.add(Dense(2, activation='softmax'))\n",
    "\n",
    "cnn_model.compile(loss='categorical_crossentropy', optimizer='SGD')\n",
    "\n",
    "print (cnn_model.summary())"
   ]
  },
  {
   "cell_type": "code",
   "execution_count": null,
   "metadata": {},
   "outputs": [],
   "source": [
    "X_test.shape"
   ]
  },
  {
   "cell_type": "code",
   "execution_count": null,
   "metadata": {},
   "outputs": [],
   "source": [
    "monitor = EarlyStopping(monitor='val_loss', min_delta=1e-4, patience=20, verbose=2, mode='auto')\n",
    "\n",
    "checkpointer = ModelCheckpoint(filepath=\"model-best.h5\", verbose=2, save_best_only=True)\n",
    "\n",
    "cnn_model.fit(X_train_cnn, y_train_cnn,\n",
    "          validation_data=(X_test_cnn, y_test_cnn),\n",
    "          # callbacks=[WandbCallback(), monitor, checkpointer],\n",
    "          epochs=epochs, verbose=2)\n",
    "model.save_weights('model-best_weights.h5')\n",
    "model.save('model-best.h5')\n",
    "\n",
    "# Recarga dos melhores pesos para avaliação\n",
    "cnn_model.load_weights('model-best.h5')\n",
    "\n",
    "# Parar a ferramenta de acompanhamento\n",
    "run.finish()"
   ]
  },
  {
   "cell_type": "code",
   "execution_count": null,
   "metadata": {},
   "outputs": [],
   "source": [
    "cnn_model.load_weights('model-best.h5')\n",
    "\n",
    "# Predição\n",
    "validation_preds = cnn_model.predict(X_test_cnn)\n",
    "validation_preds = np.round(validation_preds)\n",
    "\n",
    "# Métricas\n",
    "precision = precision_score(y_test_cnn, validation_preds, average='weighted')\n",
    "recall = recall_score(y_test_cnn, validation_preds, average='weighted')\n",
    "score = f1_score(y_test_cnn, validation_preds, average='weighted')\n",
    "\n",
    "print(\"Precisão_valores: {}\".format(precision))\n",
    "print(\"Recall_valores: {}\".format(recall))\n",
    "print(\"F1_valores: {}\".format(score))"
   ]
  },
  {
   "cell_type": "markdown",
   "metadata": {},
   "source": [
    "## Matriz de Confusão"
   ]
  },
  {
   "cell_type": "code",
   "execution_count": null,
   "metadata": {},
   "outputs": [],
   "source": [
    "cfm = confusion_matrix(validation_preds.argmax(axis=1), y_test_cnn.argmax(axis=1))\n",
    "plt.figure(figsize=(15,7))\n",
    "sns.heatmap(cfm,cmap=sns.color_palette(\"crest\", as_cmap=True), annot=True,fmt='',\n",
    "            xticklabels=['conexão_benéfica', 'ataque'], yticklabels=['conexão_benéfica', 'ataque'])"
   ]
  }
 ],
 "metadata": {
  "kernelspec": {
   "display_name": "Python 3",
   "language": "python",
   "name": "python3"
  },
  "language_info": {
   "codemirror_mode": {
    "name": "ipython",
    "version": 3
   },
   "file_extension": ".py",
   "mimetype": "text/x-python",
   "name": "python",
   "nbconvert_exporter": "python",
   "pygments_lexer": "ipython3",
   "version": "3.7.4"
  }
 },
 "nbformat": 4,
 "nbformat_minor": 2
}
